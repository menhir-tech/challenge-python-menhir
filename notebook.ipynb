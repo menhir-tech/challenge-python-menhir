{
 "cells": [
  {
   "cell_type": "markdown",
   "metadata": {},
   "source": [
    "# Part 1: Encapsulating a 2D Point\n",
    "\n",
    "You are required to create a class `Point` that represents a point in a 2-dimensional space. The class should have the following properties and methods:\n",
    "\n",
    "* **Properties**:\n",
    "  * `x` (float): The x-coordinate of the point.\n",
    "  * `y` (float): The y-coordinate of the point.\n",
    "\n",
    "* **Methods**:\n",
    "    * `__init__(self, x: float, y: float)`: A constructor that initializes the `x` and `y` properties with the given arguments."
   ]
  },
  {
   "cell_type": "markdown",
   "metadata": {},
   "source": [
    "# Part 2: Calculating the Centroid\n",
    "\n",
    "Using the Point class defined in Part 1, implement a function `calculate_centroid(points)` that calculates the centroid (geometric center) of a list of points. The centroid is the average position of all the points. The function should take a list of `Point` objects and return a new `Point` object representing the centroid."
   ]
  },
  {
   "cell_type": "markdown",
   "metadata": {},
   "source": [
    "Example"
   ]
  },
  {
   "cell_type": "code",
   "execution_count": null,
   "metadata": {},
   "outputs": [],
   "source": [
    "# Example points\n",
    "points = [Point(1, 2), Point(3, 4), Point(5, 6)]\n",
    "\n",
    "# Calculate centroid\n",
    "centroid = calculate_centroid(points)\n",
    "\n",
    "print(centroid)  # Expected output: Point(3.0, 4.0)"
   ]
  }
 ],
 "metadata": {
  "language_info": {
   "name": "python"
  }
 },
 "nbformat": 4,
 "nbformat_minor": 2
}
